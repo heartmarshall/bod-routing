{
 "cells": [
  {
   "cell_type": "code",
   "execution_count": 9,
   "metadata": {},
   "outputs": [],
   "source": [
    "import matplotlib.pyplot as plt\n",
    "from utils.graph import Graph\n",
    "from pareto_set import ParetoSet\n",
    "from pareto_set import BiObjSolution as sol\n",
    "from ipywidgets import interact, widgets\n",
    "from search_tree_pqd import SearchTreePQD, Node\n",
    "from collections import defaultdict\n",
    "from heapq import heapify, heappop, heappush\n",
    "from typing import Optional\n",
    "from graph_visualization import visualize_graph"
   ]
  },
  {
   "cell_type": "markdown",
   "metadata": {},
   "source": [
    "# ParetoSet"
   ]
  },
  {
   "cell_type": "code",
   "execution_count": 10,
   "metadata": {},
   "outputs": [],
   "source": [
    "from pareto_set import Solution\n",
    "\n",
    "\n",
    "class BiObjSolution(Solution):\n",
    "    def __init__(self, solution_values):\n",
    "        self.solution_values = solution_values\n",
    "        self.x = solution_values[0]\n",
    "        self.y = solution_values[1]\n",
    "        self.g2 = self.y\n",
    "\n",
    "    def is_dominated_by(self, other: 'BiObjSolution'):\n",
    "        return not self.is_dominates(other)\n",
    "    \n",
    "    def is_dominates(self, other):\n",
    "        return (self.x < other.x and self.y <= other.y) or (self.x <= other.x and self.y < other.y)\n",
    "    \n",
    "    def __str__(self):\n",
    "        return f\"({self.x}, {self.y})\"\n",
    "    \n",
    "    def __hash__(self) -> int:\n",
    "        return hash((self.x, self.y))\n",
    "    \n",
    "    def __repr__(self) -> str:\n",
    "        return f\"BiObjSolution([{self.x}, {self.y}])\"\n",
    "    \n",
    "    def __eq__(self, another_solution) -> bool:\n",
    "        return self.x == another_solution.x and self.y == another_solution.y"
   ]
  },
  {
   "cell_type": "code",
   "execution_count": 11,
   "metadata": {},
   "outputs": [],
   "source": [
    "class ParetoSet:\n",
    "    def __init__(self, SolutionClass=BiObjSolution):\n",
    "        self.history = []\n",
    "        self.solutions = set()\n",
    "        self.SolutionClass = SolutionClass\n",
    "        self.g2min = float('inf')\n",
    "\n",
    "        #Для визуализации\n",
    "        self.max_y = 0\n",
    "        self.max_x = 0\n",
    "        self.all_solusions_ever = set()\n",
    "\n",
    "    def add_solution(self, solution_values):\n",
    "        #TODO: можно набирать вершины в новый Парето-сет одновременно с проверкой того, будем ли вообще добавлять решение\n",
    "        solution = self.SolutionClass(solution_values)\n",
    "        \n",
    "        #Для визуализации\n",
    "        self.all_solusions_ever.add(solution)\n",
    "\n",
    "        if self.g2min > solution.g2:\n",
    "            self.solutions.add(solution)\n",
    "            self.g2min = solution.g2\n",
    "\n",
    "    def del_solution(self, solution_values):\n",
    "        solution = self.SolutionClass(solution_values)\n",
    "        self.solutions.remove(solution)\n",
    "\n",
    "    def get_solutions(self):\n",
    "        return self.solutions\n",
    "\n",
    "    def dominates_by(self, solution_values):\n",
    "        return self.g2min <= solution_values[1]\n",
    "    \n",
    "    def visualize(self):\n",
    "        solutions = self.get_solutions()\n",
    "        if not solutions:\n",
    "            print(\"Пустое Парето-множество. Нечего визуализировать.\")\n",
    "            return\n",
    "        # Разделяем координаты решений\n",
    "        x_values, y_values = [], []\n",
    "        for solution in self.solutions:\n",
    "            x_values.append(solution.x)\n",
    "            y_values.append(solution.y)\n",
    "            \n",
    "        # Визуализация точек в Парето-множестве\n",
    "        plt.scatter(x_values, y_values, label='Pareto Set', color='blue', marker='o', s=100, edgecolors='black')\n",
    "        # Настройка графика\n",
    "        plt.xlabel('Критерий 1')\n",
    "        plt.ylabel('Критерий 2')\n",
    "        plt.title('Визуализация Парето-множества')\n",
    "        # Включаем грид только для местоположений точек\n",
    "        plt.grid(True, linestyle='--', which='both', alpha=0.7)\n",
    "        # Показываем график\n",
    "        plt.show()\n",
    "\n",
    "    def __str__(self) -> str:\n",
    "        return f\"({', '.join((str(sol) for sol in self.solutions))})\"\n",
    "    \n",
    "    def __contains__(self, solution_values):\n",
    "        solution = self.SolutionClass(solution_values)\n",
    "        return solution in self.solutions\n"
   ]
  },
  {
   "cell_type": "markdown",
   "metadata": {},
   "source": [
    "# SearchTree"
   ]
  },
  {
   "cell_type": "code",
   "execution_count": 12,
   "metadata": {},
   "outputs": [],
   "source": [
    "\n",
    "\n",
    "\n",
    "class Node:\n",
    "    def __init__(self, state, g=[0, 0], h=[0, 0], parent=None, s=None):\n",
    "        self.state = state\n",
    "        self.g = tuple(g)\n",
    "        self.h = tuple(h)\n",
    "        self.f = tuple(x + y for x, y in zip(g, h))\n",
    "        self.parent = parent\n",
    "        self.s = s\n",
    "        self.g2 = self.g[1]\n",
    "        \n",
    "    def __eq__(self, other: 'Node'):\n",
    "        # Т.к у нас multi-objective вариант, то у одного и того-же стейта могут быть разные g значения. Поэтому нужно проверять и по ним\n",
    "        if self.state == other.state and \\\n",
    "           self.g == other.g and \\\n",
    "           self.h == other.h:\n",
    "            return True\n",
    "        return False\n",
    "\n",
    "    def __hash__(self) -> int:\n",
    "        return hash((self.state, self.g, self.h))\n",
    "\n",
    "    def __lt__(self, other: 'Node'):\n",
    "        # Это проверка именно на f значения, не на доминантность!\n",
    "        return self.f < other.f\n",
    "    \n",
    "    def is_dominates(self, other: 'Node'):\n",
    "        return (self.f < other.f and self.f <= other.f) or (self.f <= other.f and self.f < other.f)\n",
    "    \n",
    "    def __str__(self) -> str:\n",
    "        return f\"{self.state, self.g}\"\n",
    "\n",
    "\n",
    "class SearchTreePQD:\n",
    "\n",
    "    def __init__(self):\n",
    "        self._open = []\n",
    "        self._closed = {}\n",
    "        self._enc_open_dublicates = 0\n",
    "\n",
    "    def __len__(self) -> int:\n",
    "        return len(self._open) + len(self._closed)\n",
    "\n",
    "    def open_is_empty(self) -> bool:\n",
    "        return not self._open\n",
    "\n",
    "    def add_to_open(self, item: Node):\n",
    "        heappush(\n",
    "            self._open, item\n",
    "        )\n",
    "\n",
    "    def get_best_node_from_open(self) -> Optional[Node]:\n",
    "        while self._open:\n",
    "            best_node = heappop(self._open)\n",
    "            if not self.was_expanded(best_node):\n",
    "                return best_node\n",
    "        return None\n",
    "    \n",
    "    def remove_worse_nodes(self, better_node: 'Node'):\n",
    "        \"\"\"\n",
    "        Убирает из дерева поиска все ноды, которые доминируются other (по значению f)\n",
    "        \"\"\"\n",
    "        self._open = [node for node in self._open if not better_node.is_dominates(node)] \n",
    "        heapify(self._open)\n",
    "\n",
    "    def remove_worse_opened(self, state, better_f):\n",
    "        \"\"\"\n",
    "        Очищает opened от всех state, у которых f-значение доминируется f-значением у better_node\n",
    "        \"\"\"\n",
    "        better_node = Node(state, better_f)\n",
    "        new_open = []\n",
    "        for node in self._open:\n",
    "            if node.state != better_node.state:\n",
    "                new_open.append(node)\n",
    "                continue\n",
    "            else:\n",
    "                if not not better_node.is_dominates(node):\n",
    "                    new_open.append(node)\n",
    "        self._open =  new_open\n",
    "        heapify(self._open)\n",
    "        \n",
    "    def add_to_closed(self, item: Node):\n",
    "        self._closed[item] = item\n",
    "\n",
    "    def was_expanded(self, item: Node) -> bool:\n",
    "        return item in self._closed\n",
    "\n",
    "    @property\n",
    "    def opened(self):\n",
    "        return self._open\n",
    "\n",
    "    @property\n",
    "    def expanded(self):\n",
    "        return self._closed.values()\n",
    "\n",
    "    @property\n",
    "    def number_of_open_dublicates(self):\n",
    "        return self._enc_open_dublicates"
   ]
  },
  {
   "cell_type": "markdown",
   "metadata": {},
   "source": [
    "# Bi-Objective Dijkstra"
   ]
  },
  {
   "cell_type": "code",
   "execution_count": 13,
   "metadata": {},
   "outputs": [],
   "source": [
    "def construct_path(node: Node):\n",
    "    path = [node]\n",
    "    path_ids = [node.state]\n",
    "    prev_node = node.parent\n",
    "    while prev_node is not None:\n",
    "        path.append(prev_node)\n",
    "        path_ids.append(prev_node.state)\n",
    "        prev_node = prev_node.parent\n",
    "    return (path, path_ids)\n",
    "\n",
    "def BDijkstra(search_graph: Graph,  start_state, search_tree: SearchTreePQD,):\n",
    "    sols = defaultdict(ParetoSet)\n",
    "    g2_min = defaultdict(lambda: float('inf'))\n",
    "    start_node = Node(state=start_state, g=(0, 0), parent=None, s=start_state)\n",
    "    discarded_paths = defaultdict(list)\n",
    "    good_paths = defaultdict(list)\n",
    "    search_tree = SearchTreePQD()\n",
    "    search_tree.add_to_open(start_node)\n",
    "\n",
    "    while not search_tree.open_is_empty():\n",
    "        x = search_tree.get_best_node_from_open()\n",
    "        if x.g2 >= g2_min[x.state]:\n",
    "            discarded_paths[x.state].append((construct_path(x), x.g))\n",
    "            continue\n",
    "        \n",
    "        g2_min[x.s] = x.g2\n",
    "        sols[x.state].add_solution(x.g)\n",
    "        good_paths[x.state].append(construct_path(x))\n",
    "\n",
    "        for state, costs in search_graph.get_neighbors(x.state):\n",
    "            # [vertex_id, (cost1, cost2)]\n",
    "            neighbour_g = tuple(x + y for x, y in zip(x.g, costs))\n",
    "            y = Node(state, g=neighbour_g, parent=x)\n",
    "            if y.g2 >= g2_min[state]:\n",
    "                discarded_paths[state].append((construct_path(y), (y.g, y.g2)))\n",
    "                continue\n",
    "            search_tree.add_to_open(y)\n",
    "\n",
    "    return sols, good_paths, discarded_paths"
   ]
  },
  {
   "cell_type": "markdown",
   "metadata": {},
   "source": [
    "# Test Easy\n",
    "\n",
    "![](../testdata/bdijkstra/easy/easy.png)"
   ]
  },
  {
   "cell_type": "code",
   "execution_count": 14,
   "metadata": {},
   "outputs": [],
   "source": [
    "import matplotlib.pyplot as plt\n",
    "import networkx as nx\n",
    "\n",
    "\n",
    "def visualize_path(graph, start, stop, good_paths=[], bad_paths=[]):\n",
    "    edge_list = []\n",
    "    for node1 in graph:\n",
    "        for node2 in graph[node1]:\n",
    "            edge_list.append((node1, node2, {\"w\": f\"{graph[node1][node2][0], graph[node1][node2][1]}\"}))\n",
    "\n",
    "    G = nx.DiGraph()\n",
    "\n",
    "    G.add_edges_from(edge_list)\n",
    "    pos=nx.spring_layout(G,seed=1)\n",
    "    pos=nx.circular_layout(G)\n",
    "    fig, ax = plt.subplots()\n",
    "    nx.draw_networkx_nodes(G, pos, ax=ax)\n",
    "    nx.draw_networkx_labels(G, pos, ax=ax)\n",
    "\n",
    "    curved_edges = [edge for edge in G.edges() if reversed(edge) in G.edges()]\n",
    "    straight_edges = list(set(G.edges()) - set(curved_edges))\n",
    "    nx.draw_networkx_edges(G, pos, ax=ax, edgelist=straight_edges)\n",
    "    arc_rad = 0.25\n",
    "    nx.draw_networkx_edges(G, pos, ax=ax, edgelist=curved_edges, connectionstyle=f'arc3, rad = {arc_rad}')\n",
    "\n",
    "    for path in good_paths:\n",
    "        edge_list = []\n",
    "        path_nodes = path[1][::-1]\n",
    "        for i in range(len(path_nodes)-1):\n",
    "            edge_list.append((path_nodes[i], path_nodes[i+1]))\n",
    "        nx.draw_networkx_edges(G, pos, ax=ax, edgelist=edge_list,  edge_color='green')\n",
    "\n",
    "    edge_weights = nx.get_edge_attributes(G,'w')\n",
    "    curved_edge_labels = {edge: edge_weights[edge] for edge in curved_edges}\n",
    "    straight_edge_labels = {edge: edge_weights[edge] for edge in straight_edges}\n",
    "    nx.draw_networkx_edge_labels(G, pos, ax=ax, edge_labels=curved_edge_labels,rotate=False,rad = arc_rad)\n",
    "    nx.draw_networkx_edge_labels(G, pos, ax=ax, edge_labels=straight_edge_labels,rotate=False)\n",
    "\n",
    "    nx.draw_networkx_nodes(G, pos, ax=ax, node_color='green', nodelist=[start, stop])\n",
    "    nx.draw_networkx_labels(G, pos, ax=ax)\n",
    "    \n",
    "    "
   ]
  },
  {
   "cell_type": "code",
   "execution_count": 17,
   "metadata": {},
   "outputs": [
    {
     "name": "stdout",
     "output_type": "stream",
     "text": [
      "  V1 -> V2  :  C1, C2\n",
      "   0 -> 3   :   1, 4\n",
      "   0 -> 1   :   1, 2\n",
      "   1 -> 3   :   4, 1\n",
      "   1 -> 2   :   3, 1\n",
      "   1 -> 4   :   1, 6\n",
      "   2 -> 4   :   3, 2\n"
     ]
    },
    {
     "data": {
      "image/png": "[encoded data removed]",
      "text/plain": [
       "<Figure size 640x480 with 1 Axes>"
      ]
     },
     "metadata": {},
     "output_type": "display_data"
    },
    {
     "data": {
      "text/plain": [
       "<networkx.classes.digraph.DiGraph at 0x7fd920a8c910>"
      ]
     },
     "execution_count": 17,
     "metadata": {},
     "output_type": "execute_result"
    }
   ],
   "source": [
    "task_medium = Graph()\n",
    "task_medium.read_from_file(\"../testdata/bdijkstra/easy/easy_task.txt\")\n",
    "task_medium.print_graph()\n",
    "sols, good_paths, discarded_paths = BDijkstra(task_medium, 1, SearchTreePQD)\n",
    "visualize_graph(task_medium.graph)"
   ]
  },
  {
   "cell_type": "markdown",
   "metadata": {},
   "source": [
    "## Test Medium\n",
    "\n",
    "![](../testdata/bdijkstra/medium/medium.png)"
   ]
  },
  {
   "cell_type": "code",
   "execution_count": 19,
   "metadata": {},
   "outputs": [
    {
     "name": "stdout",
     "output_type": "stream",
     "text": [
      "  V1 -> V2  :  C1, C2\n",
      "   0 -> 1   :   1, 1\n",
      "   1 -> 5   :   1, 5\n",
      "   1 -> 4   :   4, 2\n",
      "   1 -> 2   :   1, 3\n",
      "   4 -> 2   :   1, 2\n",
      "   2 -> 5   :   5, 1\n",
      "   2 -> 3   :   1, 1\n"
     ]
    },
    {
     "data": {
      "image/png": "[encoded data removed]",
      "text/plain": [
       "<Figure size 640x480 with 1 Axes>"
      ]
     },
     "metadata": {},
     "output_type": "display_data"
    },
    {
     "data": {
      "image/png": "[encoded data removed]",
      "text/plain": [
       "<Figure size 640x480 with 1 Axes>"
      ]
     },
     "metadata": {},
     "output_type": "display_data"
    }
   ],
   "source": [
    "task_medium = Graph()\n",
    "task_medium.read_from_file(\"../testdata/bdijkstra/medium/medium_task.txt\")\n",
    "task_medium.print_graph()\n",
    "sols, good_paths, s = BDijkstra(task_medium, 0, SearchTreePQD)\n",
    "visualize_graph(task_medium.graph)\n",
    "visualize_path(task_medium.graph, 0, 5, good_paths[5])"
   ]
  },
  {
   "cell_type": "code",
   "execution_count": 21,
   "metadata": {},
   "outputs": [
    {
     "data": {
      "application/vnd.jupyter.widget-view+json": {
       "model_id": "32b0487743dc4d5e9dacd0e31257e870",
       "version_major": 2,
       "version_minor": 0
      },
      "text/plain": [
       "Dropdown(description='Цвет:', index=1, options=(('Красный', 1), ('Желтый', 2), ('Зеленый', 3)), value=2)"
      ]
     },
     "metadata": {},
     "output_type": "display_data"
    },
    {
     "name": "stdout",
     "output_type": "stream",
     "text": [
      "2 -> 1\n",
      "1 -> 3\n"
     ]
    }
   ],
   "source": [
    "from IPython.display import display\n",
    "from ipywidgets import Dropdown\n",
    "\n",
    "dropdown1 = Dropdown(\n",
    "    options=[('Красный', 1), ('Желтый', 2), ('Зеленый', 3)],\n",
    "    value=2, # Выбор по умолчанию\n",
    "    description='Цвет:' \n",
    ")\n",
    "\n",
    "def on_button_clicked(b):\n",
    "    print(b['old'], '->', b['new'])\n",
    "\n",
    "dropdown1.observe(on_button_clicked, names='value')\n",
    "display(dropdown1)"
   ]
  },
  {
   "cell_type": "code",
   "execution_count": 22,
   "metadata": {},
   "outputs": [
    {
     "data": {
      "application/vnd.jupyter.widget-view+json": {
       "model_id": "a26e6352f73943998b6c241dc6cadc03",
       "version_major": 2,
       "version_minor": 0
      },
      "text/plain": [
       "interactive(children=(Dropdown(description='Start Node:', options=(1, 2, 3, 4, 5), value=1), Dropdown(descript…"
      ]
     },
     "metadata": {},
     "output_type": "display_data"
    },
    {
     "data": {
      "text/plain": [
       "<function __main__.update_plot(start_node, end_node, good_paths_text, bad_paths_text)>"
      ]
     },
     "execution_count": 22,
     "metadata": {},
     "output_type": "execute_result"
    }
   ],
   "source": [
    "import networkx as nx\n",
    "import matplotlib.pyplot as plt\n",
    "from ipywidgets import interact, widgets\n",
    "\n",
    "# Создаем пример графа\n",
    "G = nx.Graph()\n",
    "G.add_edges_from([(1, 2), (2, 3), (3, 4), (4, 1), (1, 5)])\n",
    "\n",
    "# Функция для визуализации графа с маршрутом\n",
    "def plot_graph(start_node, end_node, good_paths, bad_paths):\n",
    "    pos = nx.spring_layout(G)  # Вы можете выбрать другой способ размещения вершин\n",
    "\n",
    "    # Отмечаем вершины, входящие в хороший маршрут\n",
    "    good_nodes = set()\n",
    "    for path in good_paths:\n",
    "        good_nodes.update(path)\n",
    "\n",
    "    # Отмечаем вершины, входящие в плохой маршрут\n",
    "    bad_nodes = set()\n",
    "    for path in bad_paths:\n",
    "        bad_nodes.update(path)\n",
    "\n",
    "    # Рисуем вершины и ребра\n",
    "    nx.draw(G, pos, with_labels=True, font_weight='bold', node_color='lightgray')\n",
    "    \n",
    "    # Выделяем вершины хороших и плохих маршрутов\n",
    "    nx.draw_networkx_nodes(G, pos, nodelist=good_nodes, node_color='green')\n",
    "    nx.draw_networkx_nodes(G, pos, nodelist=bad_nodes, node_color='red')\n",
    "\n",
    "    # Рисуем маршрут от start_node к end_node\n",
    "    path = nx.shortest_path(G, source=start_node, target=end_node)\n",
    "    edges = list(zip(path, path[1:]))\n",
    "    nx.draw_networkx_edges(G, pos, edgelist=edges, edge_color='blue', width=2)\n",
    "\n",
    "    plt.show()\n",
    "\n",
    "# Создаем интерактивные элементы\n",
    "start_node_dropdown = widgets.Dropdown(\n",
    "    options=list(G.nodes),\n",
    "    value=list(G.nodes)[0],\n",
    "    description='Start Node:'\n",
    ")\n",
    "\n",
    "end_node_dropdown = widgets.Dropdown(\n",
    "    options=list(G.nodes),\n",
    "    value=list(G.nodes)[1],\n",
    "    description='End Node:'\n",
    ")\n",
    "\n",
    "good_paths_text = widgets.Text(\n",
    "    placeholder='Enter good paths (e.g., 1-2-3, 1-4-3)',\n",
    "    description='Good Paths:'\n",
    ")\n",
    "\n",
    "bad_paths_text = widgets.Text(\n",
    "    placeholder='Enter bad paths (e.g., 2-3-4, 1-5-2)',\n",
    "    description='Bad Paths:'\n",
    ")\n",
    "\n",
    "# Создаем функцию, которая будет вызываться при изменении значений интерактивных элементов\n",
    "def update_plot(start_node, end_node, good_paths_text, bad_paths_text):\n",
    "    # Преобразуем текстовые данные в списки\n",
    "    good_paths = [list(map(int, path.split('-'))) for path in good_paths_text.split(',')]\n",
    "    bad_paths = [list(map(int, path.split('-'))) for path in bad_paths_text.split(',')]\n",
    "\n",
    "    # Визуализируем граф\n",
    "    plot_graph(start_node, end_node, good_paths, bad_paths)\n",
    "\n",
    "# Устанавливаем функцию обновления\n",
    "interact(update_plot, start_node=start_node_dropdown, end_node=end_node_dropdown,\n",
    "         good_paths_text=good_paths_text, bad_paths_text=bad_paths_text)"
   ]
  },
  {
   "cell_type": "code",
   "execution_count": null,
   "metadata": {},
   "outputs": [],
   "source": []
  }
 ],
 "metadata": {
  "kernelspec": {
   "display_name": "base",
   "language": "python",
   "name": "python3"
  },
  "language_info": {
   "codemirror_mode": {
    "name": "ipython",
    "version": 3
   },
   "file_extension": ".py",
   "mimetype": "text/x-python",
   "name": "python",
   "nbconvert_exporter": "python",
   "pygments_lexer": "ipython3",
   "version": "3.1.0"
  }
 },
 "nbformat": 4,
 "nbformat_minor": 2
}
