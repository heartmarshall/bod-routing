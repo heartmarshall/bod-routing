{
 "cells": [
  {
   "cell_type": "code",
   "execution_count": 1,
   "metadata": {},
   "outputs": [],
   "source": [
    "import matplotlib.pyplot as plt\n",
    "from collections import defaultdict"
   ]
  },
  {
   "cell_type": "markdown",
   "metadata": {},
   "source": [
    "# Алгоритм NAMOA*\n",
    "\n",
    "NAMOA* является основой для большинства алгоритмов многокритериального поиска. "
   ]
  },
  {
   "cell_type": "code",
   "execution_count": 2,
   "metadata": {},
   "outputs": [],
   "source": [
    "class Transition:\n",
    "    def __init__(self, start_state, end_state, cost1, cost2):\n",
    "        self.start_state = start_state\n",
    "        self.end_state = end_state\n",
    "        self.cost1 = cost1\n",
    "        self.cost2 = cost2"
   ]
  },
  {
   "cell_type": "code",
   "execution_count": 3,
   "metadata": {},
   "outputs": [],
   "source": [
    "def NAMOAstar(search_graph: SearchGraph,  start_state, goal_state, heuristic_func, search_tree: SearchTreePQD,):\n",
    "    sols = ParetoSet()\n",
    "    g_opened = defaultdict(ParetoSet)\n",
    "    g_closed = defaultdict(ParetoSet)\n",
    "    parent = defaultdict(set)\n",
    "\n",
    "    g_opened[start_state].add_solution((0, 0))\n",
    "    start_node = Node(start_state, (0, 0), (0, 0))\n",
    "\n",
    "    search_tree = SearchTreePQD()\n",
    "    search_tree.add_to_open(start_node)\n",
    "\n",
    "    while not search_tree.open_is_empty():\n",
    "        s = search_tree.get_best_node_from_open()\n",
    "        g_opened[s.state].del_solution(s.g)\n",
    "        g_closed[s.state].add_solution(s.g)\n",
    "\n",
    "        if s.state == goal_state:\n",
    "            sols.add_solution(s.g)\n",
    "            # search_tree.remove_worse_nodes(s) ОШИБКА ИЗ СТАТЬИ\n",
    "            continue\n",
    "\n",
    "        for t in search_graph.get_neighbors(s.state):\n",
    "            # t = [vertex_id, (cost1, cost2)]\n",
    "            t_state =  t[0]\n",
    "            t_g = tuple(x + y for x, y in zip(s.g, t[1]))\n",
    "            t = Node(t_state, t_g, heuristic_func(t_state))\n",
    "            \n",
    "            if t.g in g_opened[t.state] or t.g in g_closed[t.state]:\n",
    "                parent[t.g].add(s.g)\n",
    "                continue\n",
    "\n",
    "            if not g_opened[t_state].is_non_dominated(t.g) or not g_closed[t_state].is_non_dominated(t.g):\n",
    "                continue\n",
    "\n",
    "            if not sols.is_non_dominated(t.f):\n",
    "                continue\n",
    "\n",
    "            dominated_solutions = g_opened[t.state].all_solutions_dominated_by(t.g)\n",
    "            g_opened[t.state].remove_worse(t.g)\n",
    "\n",
    "            for sol in dominated_solutions:\n",
    "                search_tree.remove_worse_opened(t.state, sol.solution_values)\n",
    "            \n",
    "            g_closed[t_state].remove_worse(t.g)\n",
    "\n",
    "            parent[t.g].add(s.g)\n",
    "            g_opened[t.state].add_solution(t.g)\n",
    "            search_tree.add_to_open(t)\n",
    "            \n",
    "    return sols"
   ]
  }
 ],
 "metadata": {
  "kernelspec": {
   "display_name": "base",
   "language": "python",
   "name": "python3"
  },
  "language_info": {
   "codemirror_mode": {
    "name": "ipython",
    "version": 3
   },
   "file_extension": ".py",
   "mimetype": "text/x-python",
   "name": "python",
   "nbconvert_exporter": "python",
   "pygments_lexer": "ipython3",
   "version": "3.11.4"
  }
 },
 "nbformat": 4,
 "nbformat_minor": 2
}
